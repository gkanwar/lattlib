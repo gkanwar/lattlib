{
 "cells": [
  {
   "cell_type": "code",
   "execution_count": 1,
   "metadata": {},
   "outputs": [],
   "source": [
    "import numpy as np"
   ]
  },
  {
   "cell_type": "code",
   "execution_count": 5,
   "metadata": {},
   "outputs": [],
   "source": [
    "def fname(g):\n",
    "    return (\"/home/aavkhadi/Dropbox (MIT)/projects-local/interpolators/lattlib/anls/_match/of_b2.00_k0.233/gaugeBC01/u1_of_b2.00_k0.233_N100_skip10_therm40_16_24_gaugeBC01_match_meson_boot_Ct_%s.npy\"\n",
    "           % g)"
   ]
  },
  {
   "cell_type": "code",
   "execution_count": 16,
   "metadata": {},
   "outputs": [],
   "source": [
    "nskip = 1\n",
    "g = 'g5-g5'\n",
    "corr_mean = {}\n",
    "for g in {'g5-g5', 'g2g5-g2g5', 'g5-g2g5', 'g2g5-g5'}:\n",
    "    corr_mean[g] = np.load(fname(g))[nskip:, 0]\n"
   ]
  },
  {
   "cell_type": "code",
   "execution_count": 47,
   "metadata": {},
   "outputs": [],
   "source": [
    "def combine1(a1):\n",
    "    a2 = np.sqrt(1-a1**2)\n",
    "    return (a1**2 * corr_mean['g5-g5'] \n",
    "                + a2**2 * corr_mean['g2g5-g2g5']  \n",
    "                + (a1*a2) * corr_mean['g5-g2g5']  \n",
    "                + (a2*a1) * corr_mean['g2g5-g5'])\n",
    "def combine2(a1):\n",
    "    a2 = -np.sqrt(1-a1**2)\n",
    "    return (a1**2 * corr_mean['g5-g5'] \n",
    "                + a2**2 * corr_mean['g2g5-g2g5']  \n",
    "                + (a1*a2) * corr_mean['g5-g2g5']  \n",
    "                + (a2*a1) * corr_mean['g2g5-g5'])"
   ]
  },
  {
   "cell_type": "code",
   "execution_count": 50,
   "metadata": {},
   "outputs": [
    {
     "name": "stdout",
     "output_type": "stream",
     "text": [
      "(1.240929456511736-1.1580425464041952e-20j)\n",
      "(1.2386397300428118-4.545641504156898e-21j)\n",
      "(1.2329363122546289+2.349421762444661e-21j)\n",
      "(1.224628332237049+7.623834508782859e-21j)\n",
      "(1.2147561069378545+9.634533698115255e-21j)\n",
      "(1.2047636587542205+0j)\n"
     ]
    }
   ],
   "source": [
    "for a in np.arange(0.0, 1.01, 0.2):\n",
    "    print(np.log(combine1(a)[1]/combine1(a)[2]))"
   ]
  },
  {
   "cell_type": "code",
   "execution_count": 52,
   "metadata": {},
   "outputs": [
    {
     "name": "stdout",
     "output_type": "stream",
     "text": [
      "(1.240929456511736-1.1580425464041952e-20j)\n",
      "(1.2394445495490578-1.7325846326667765e-20j)\n",
      "(1.234378087654606-2.05908667856406e-20j)\n",
      "(1.2263911583347602-2.0510474842458787e-20j)\n",
      "(1.216369194985903-1.6208216524266498e-20j)\n",
      "(1.2047636587542205+0j)\n"
     ]
    }
   ],
   "source": [
    "for a in np.arange(0.0, 1.01, 0.2):\n",
    "    print(np.log(combine2(a)[1]/combine2(a)[2]))"
   ]
  },
  {
   "cell_type": "code",
   "execution_count": null,
   "metadata": {},
   "outputs": [],
   "source": []
  }
 ],
 "metadata": {
  "kernelspec": {
   "display_name": "Python 3",
   "language": "python",
   "name": "python3"
  },
  "language_info": {
   "codemirror_mode": {
    "name": "ipython",
    "version": 3
   },
   "file_extension": ".py",
   "mimetype": "text/x-python",
   "name": "python",
   "nbconvert_exporter": "python",
   "pygments_lexer": "ipython3",
   "version": "3.8.5"
  }
 },
 "nbformat": 4,
 "nbformat_minor": 4
}
